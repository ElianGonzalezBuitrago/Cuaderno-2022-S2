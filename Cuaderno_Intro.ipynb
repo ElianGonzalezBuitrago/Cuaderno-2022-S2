{
  "nbformat": 4,
  "nbformat_minor": 0,
  "metadata": {
    "colab": {
      "name": "Cuaderno Intro",
      "provenance": [],
      "authorship_tag": "ABX9TyNkKr0RarInVx5dqny87yqG",
      "include_colab_link": true
    },
    "kernelspec": {
      "name": "python3",
      "display_name": "Python 3"
    },
    "language_info": {
      "name": "python"
    }
  },
  "cells": [
    {
      "cell_type": "markdown",
      "metadata": {
        "id": "view-in-github",
        "colab_type": "text"
      },
      "source": [
        "<a href=\"https://colab.research.google.com/github/ElianGonzalezBuitrago/Cuaderno-2022-S2/blob/main/Cuaderno_Intro.ipynb\" target=\"_parent\"><img src=\"https://colab.research.google.com/assets/colab-badge.svg\" alt=\"Open In Colab\"/></a>"
      ]
    },
    {
      "cell_type": "code",
      "execution_count": null,
      "metadata": {
        "id": "GJL_TZAtYOn_"
      },
      "outputs": [],
      "source": [
        ""
      ]
    }
  ]
}